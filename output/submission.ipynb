{
 "cells": [
  {
   "cell_type": "code",
   "execution_count": null,
   "metadata": {},
   "outputs": [],
   "source": [
    "pip install git+https://github.com/ssut/py-hanspell.git"
   ]
  },
  {
   "cell_type": "code",
   "execution_count": 170,
   "metadata": {},
   "outputs": [],
   "source": [
    "import numpy as np\n",
    "import pandas as pd\n",
    "import matplotlib.pyplot as plt\n",
    "import seaborn as sns\n",
    "\n",
    "# 한글 폰트 적용\n",
    "plt.rc('font', family='Malgun Gothic') \n",
    "# 캔버스 사이즈 적용\n",
    "plt.rcParams[\"figure.figsize\"] = (12, 9)\n",
    "\n",
    "\n",
    "from hanspell import spell_checker\n",
    "from tensorflow.keras.preprocessing.text import Tokenizer\n",
    "from sklearn.preprocessing import LabelEncoder"
   ]
  },
  {
   "cell_type": "code",
   "execution_count": 2,
   "metadata": {},
   "outputs": [],
   "source": [
    "train = pd.read_csv('../input/train.csv', dtype=str)\n",
    "valid = pd.read_csv('../input/validation.csv', dtype=str)\n",
    "test = pd.read_csv('../input/test.csv', dtype=str)\n"
   ]
  },
  {
   "cell_type": "code",
   "execution_count": 3,
   "metadata": {},
   "outputs": [
    {
     "name": "stdout",
     "output_type": "stream",
     "text": [
      "<class 'pandas.core.frame.DataFrame'>\n",
      "RangeIndex: 65299 entries, 0 to 65298\n",
      "Data columns (total 2 columns):\n",
      " #   Column     Non-Null Count  Dtype \n",
      "---  ------     --------------  ----- \n",
      " 0   utterance  65299 non-null  object\n",
      " 1   intent     65299 non-null  object\n",
      "dtypes: object(2)\n",
      "memory usage: 1020.4+ KB\n",
      "None \n",
      "\n",
      "<class 'pandas.core.frame.DataFrame'>\n",
      "RangeIndex: 10872 entries, 0 to 10871\n",
      "Data columns (total 2 columns):\n",
      " #   Column     Non-Null Count  Dtype \n",
      "---  ------     --------------  ----- \n",
      " 0   utterance  10872 non-null  object\n",
      " 1   intent     10872 non-null  object\n",
      "dtypes: object(2)\n",
      "memory usage: 170.0+ KB\n",
      "None \n",
      "\n",
      "<class 'pandas.core.frame.DataFrame'>\n",
      "RangeIndex: 8481 entries, 0 to 8480\n",
      "Data columns (total 2 columns):\n",
      " #   Column     Non-Null Count  Dtype \n",
      "---  ------     --------------  ----- \n",
      " 0   utterance  8481 non-null   object\n",
      " 1   intent     8481 non-null   object\n",
      "dtypes: object(2)\n",
      "memory usage: 132.6+ KB\n",
      "None\n"
     ]
    }
   ],
   "source": [
    "print(train.info(), \"\\n\")\n",
    "print(valid.info(), \"\\n\")\n",
    "print(test.info())"
   ]
  },
  {
   "cell_type": "code",
   "execution_count": 4,
   "metadata": {},
   "outputs": [],
   "source": [
    "dfs = { \n",
    "    'train': {\n",
    "        'data' : train\n",
    "    }, \n",
    "    'valid': {\n",
    "        'data' : valid\n",
    "    } , \n",
    "    'test': {\n",
    "        'data' : test\n",
    "    } \n",
    "}"
   ]
  },
  {
   "attachments": {},
   "cell_type": "markdown",
   "metadata": {},
   "source": [
    "### 전처리"
   ]
  },
  {
   "cell_type": "code",
   "execution_count": 5,
   "metadata": {},
   "outputs": [
    {
     "name": "stdout",
     "output_type": "stream",
     "text": [
      "False\n",
      "False\n",
      "False\n"
     ]
    }
   ],
   "source": [
    "# na값 확인\n",
    "print(train.isna().values.any())\n",
    "print(valid.isna().values.any())\n",
    "print(test.isna().values.any())"
   ]
  },
  {
   "cell_type": "code",
   "execution_count": 6,
   "metadata": {},
   "outputs": [
    {
     "name": "stdout",
     "output_type": "stream",
     "text": [
      "65299\n",
      "False\n",
      "65299\n",
      "\n",
      "\n",
      "10872\n",
      "False\n",
      "10872\n",
      "\n",
      "\n",
      "8481\n",
      "False\n",
      "8481\n",
      "\n",
      "\n"
     ]
    }
   ],
   "source": [
    "# 결측치 확인 및 제거\n",
    "for dfName in dfs.keys():\n",
    "    # 빈값 제거 \n",
    "    print(len(dfs[dfName]['data']))\n",
    "    dfs[dfName]['data'].replace(\"\", float(\"NaN\"), inplace=True)\n",
    "    dfs[dfName]['data'].dropna(inplace=True)\n",
    "    print(dfs[dfName]['data'].isnull().values.any())\n",
    "    print(len(dfs[dfName]['data']))\n",
    "    \n",
    "    print(\"\\n\")"
   ]
  },
  {
   "cell_type": "code",
   "execution_count": 7,
   "metadata": {},
   "outputs": [
    {
     "name": "stdout",
     "output_type": "stream",
     "text": [
      "중복을 제외한 train의 utterance  : 65284\n",
      "중복을 제외한 train의 intent     : 13\n",
      "중복을 제외한 valid의 utterance  : 10872\n",
      "중복을 제외한 valid의 intent     : 13\n",
      "중복을 제외한 test의 utterance  : 8481\n",
      "중복을 제외한 test의 intent     : 13\n"
     ]
    }
   ],
   "source": [
    "print('중복을 제외한 train의 utterance  : {}'.format(train['utterance'].nunique()))\n",
    "print('중복을 제외한 train의 intent     : {}'.format(train['intent'].nunique()))\n",
    "print('중복을 제외한 valid의 utterance  : {}'.format(valid['utterance'].nunique()))\n",
    "print('중복을 제외한 valid의 intent     : {}'.format(valid['intent'].nunique()))\n",
    "print('중복을 제외한 test의 utterance  : {}'.format(test['utterance'].nunique()))\n",
    "print('중복을 제외한 test의 intent     : {}'.format(test['intent'].nunique()))"
   ]
  },
  {
   "cell_type": "code",
   "execution_count": 8,
   "metadata": {},
   "outputs": [
    {
     "data": {
      "text/plain": [
       "제품          41635\n",
       "배송          15744\n",
       "교환|반품|환불     2431\n",
       "행사           1895\n",
       "결제           1214\n",
       "AS            839\n",
       "구매            423\n",
       "웹사이트          303\n",
       "부가서비스         269\n",
       "포장            253\n",
       "매장            202\n",
       "주문             53\n",
       "멤버십            38\n",
       "Name: intent, dtype: int64"
      ]
     },
     "execution_count": 8,
     "metadata": {},
     "output_type": "execute_result"
    }
   ],
   "source": [
    "train['intent'].value_counts().sort_values(ascending=False)"
   ]
  },
  {
   "cell_type": "code",
   "execution_count": 9,
   "metadata": {},
   "outputs": [
    {
     "data": {
      "image/png": "[encoded data removed]",
      "text/plain": [
       "<Figure size 1000x500 with 1 Axes>"
      ]
     },
     "metadata": {},
     "output_type": "display_data"
    }
   ],
   "source": [
    "order = train['intent'].value_counts().sort_values(ascending=False).index\n",
    "\n",
    "fig = plt.figure(figsize=(10,5))\n",
    "sns.countplot(data = train, x = 'intent', order=order)\n",
    "plt.show()\n"
   ]
  },
  {
   "attachments": {},
   "cell_type": "markdown",
   "metadata": {},
   "source": [
    "#### 토큰화 전 맞춤법 보정"
   ]
  },
  {
   "cell_type": "code",
   "execution_count": 10,
   "metadata": {},
   "outputs": [],
   "source": [
    "# 맞춤법 보정\n",
    "def spellCheck(sent):\n",
    "    sent = sent.replace(\" \", \"\")\n",
    "    spelled_sent = spell_checker.check(sent)\n",
    "    hanspell_sent = spelled_sent.checked\n",
    "    return hanspell_sent"
   ]
  },
  {
   "cell_type": "code",
   "execution_count": 11,
   "metadata": {},
   "outputs": [
    {
     "name": "stdout",
     "output_type": "stream",
     "text": [
      "nsSent               :  세트구성에는4060이던데그사이즈는필요없어서5070으로일단추가구매했는데둘다보내는건가여?\n",
      "hanspell_sent        :  세트 구성에는 40 60이던데 그 사이즈는 필요 없어서 50 70으로 일단 추가 구매했는데 둘 다 보내는 건가요?\n"
     ]
    }
   ],
   "source": [
    "sent = train['utterance'][65296]\n",
    "nsSent = sent.replace(\" \", \"\")\n",
    "\n",
    "print(\"nsSent               : \", nsSent)\n",
    "\n",
    "spelled_sent = spell_checker.check(sent)\n",
    "hanspell_sent = spelled_sent.checked\n",
    "print(\"hanspell_sent        : \", hanspell_sent)"
   ]
  },
  {
   "cell_type": "code",
   "execution_count": null,
   "metadata": {},
   "outputs": [],
   "source": [
    "train['sentence'] = train['utterance'].apply(spellCheck)\n",
    "train.to_csv('../input/train2.csv', sep=',', index = True)\n",
    "valid['sentence'] = valid['utterance'].apply(spellCheck)\n",
    "valid.to_csv('../input/valid2.csv', sep=',', index = True)\n",
    "test['sentence'] = test['utterance'].apply(spellCheck)\n",
    "test.to_csv('../input/test2.csv', sep=',', index = True)"
   ]
  },
  {
   "cell_type": "code",
   "execution_count": 577,
   "metadata": {},
   "outputs": [],
   "source": [
    "train = pd.read_csv('../input/train2.csv', dtype=str)\n",
    "valid = pd.read_csv('../input/valid2.csv', dtype=str)\n",
    "test = pd.read_csv('../input/test2.csv', dtype=str)\n"
   ]
  },
  {
   "cell_type": "markdown",
   "metadata": {},
   "source": [
    "#### 정수 인코딩 "
   ]
  },
  {
   "cell_type": "code",
   "execution_count": 583,
   "metadata": {},
   "outputs": [],
   "source": [
    "encoder = LabelEncoder()\n",
    "train_intent = train['intent']\n",
    "valid_intent = valid['intent']\n",
    "test_intent = test['intent']\n",
    "\n",
    "# X_train데이터를 이용 피팅하고 라벨숫자로 변환한다\n",
    "encoder.fit(train_intent)\n",
    "X_train_encoded = encoder.transform(train_intent)\n",
    "\n",
    "# X_test데이터에만 존재하는 새로 출현한 데이터를 신규 클래스로 추가\n",
    "for item in [np.unique(valid_intent), np.unique(test_intent)]:\n",
    "    for label in item:\n",
    "        if label not in encoder.classes_: # unseen label 데이터인 경우( )\n",
    "            encoder.classes_ = np.append(encoder.classes_, label) # 미처리 시 ValueError발생\n",
    "X_valid_encoded = encoder.transform(valid_intent)\n",
    "X_test_encoded = encoder.transform(test_intent)\n"
   ]
  },
  {
   "cell_type": "code",
   "execution_count": 584,
   "metadata": {},
   "outputs": [],
   "source": [
    "train['target'] = X_train_encoded\n",
    "valid['target'] = X_valid_encoded\n",
    "test['target'] = X_test_encoded"
   ]
  },
  {
   "cell_type": "code",
   "execution_count": 585,
   "metadata": {},
   "outputs": [
    {
     "name": "stdout",
     "output_type": "stream",
     "text": [
      "len(train): 65299, len(train_sentence): 65299, vocab_size: 40000\n"
     ]
    }
   ],
   "source": [
    "train_sentence = train['sentence']\n",
    "train_label = train['target']\n",
    "valid_sentence = valid['sentence']\n",
    "valid_label = valid['target']\n",
    "test_sentence = test['sentence']\n",
    "test_label = test['target']\n",
    "\n",
    "vocab_size = int(40000)\n",
    "num_classes = train['target'].nunique()\n",
    "\n",
    "\n",
    "print(f\"len(train): {len(train)}, len(train_sentence): {len(train_sentence)}, vocab_size: {vocab_size}\")"
   ]
  },
  {
   "cell_type": "markdown",
   "metadata": {},
   "source": [
    "#### 토큰화"
   ]
  },
  {
   "cell_type": "code",
   "execution_count": 586,
   "metadata": {},
   "outputs": [],
   "source": [
    "tokenizer = Tokenizer(num_words = vocab_size) # vocab_size 개수만큼의 단어만 사용\n",
    "tokenizer.fit_on_texts(train_sentence)\n",
    "X_train = tokenizer.texts_to_sequences(train_sentence) # 샘플 수 × vocab_size 크기의 행렬 생성\n",
    "X_valid = tokenizer.texts_to_sequences(valid_sentence) # 샘플 수 × vocab_size 크기의 행렬 생성\n",
    "X_test = tokenizer.texts_to_sequences(test_sentence) # 샘플 수 × vocab_size 크기의 행렬 생성\n",
    "y_train = train_label\n",
    "y_valid = valid_label\n",
    "y_test = test_label"
   ]
  },
  {
   "cell_type": "code",
   "execution_count": 587,
   "metadata": {},
   "outputs": [
    {
     "data": {
      "text/plain": [
       "80851"
      ]
     },
     "execution_count": 587,
     "metadata": {},
     "output_type": "execute_result"
    }
   ],
   "source": [
    "len(tokenizer.word_index)"
   ]
  },
  {
   "cell_type": "code",
   "execution_count": 599,
   "metadata": {},
   "outputs": [
    {
     "name": "stdout",
     "output_type": "stream",
     "text": [
      "train 샘플 본문의 크기 : 65299\n",
      "train 샘플 레이블의 크기 : 65299\n",
      "valid 샘플 본문의 크기 : 10872\n",
      "valid 샘플 레이블의 크기 : 10872\n",
      "test  샘플 본문의 크기 : 8481\n",
      "test  샘플 레이블의 크기 : 8481\n"
     ]
    }
   ],
   "source": [
    "print('train 샘플 본문의 크기 : {}'.format(len(X_train)))\n",
    "print('train 샘플 레이블의 크기 : {}'.format(len(y_train)))\n",
    "print('valid 샘플 본문의 크기 : {}'.format(len(X_valid)))\n",
    "print('valid 샘플 레이블의 크기 : {}'.format(len(y_valid)))\n",
    "print('test  샘플 본문의 크기 : {}'.format(len(X_test)))\n",
    "print('test  샘플 레이블의 크기 : {}'.format(len(y_test)))\n"
   ]
  },
  {
   "cell_type": "code",
   "execution_count": 502,
   "metadata": {},
   "outputs": [
    {
     "name": "stdout",
     "output_type": "stream",
     "text": [
      "각 레이블에 대한 빈도수:\n",
      "[[   0    1    2    3    4    5    6    7    8    9   10   11   12]\n",
      " [ 168  225  521   82   43   10 3164   62   71 8250   10   35  418]]\n"
     ]
    }
   ],
   "source": [
    "unique_elements, counts_elements = np.unique(y_train, return_counts=True)\n",
    "print(\"각 레이블에 대한 빈도수:\")\n",
    "print(np.asarray((unique_elements, counts_elements)))"
   ]
  },
  {
   "cell_type": "code",
   "execution_count": 503,
   "metadata": {},
   "outputs": [
    {
     "data": {
      "text/plain": [
       "array(['AS', '결제', '교환|반품|환불', '구매', '매장', '멤버십', '배송', '부가서비스', '웹사이트',\n",
       "       '제품', '주문', '포장', '행사'], dtype=object)"
      ]
     },
     "execution_count": 503,
     "metadata": {},
     "output_type": "execute_result"
    }
   ],
   "source": [
    "encoder.classes_"
   ]
  },
  {
   "cell_type": "code",
   "execution_count": 93,
   "metadata": {},
   "outputs": [
    {
     "data": {
      "text/plain": [
       "array(['AS', '결제', '교환|반품|환불', '구매', '매장', '멤버십', '배송', '부가서비스', '웹사이트',\n",
       "       '제품', '주문', '포장', '행사'], dtype=object)"
      ]
     },
     "execution_count": 93,
     "metadata": {},
     "output_type": "execute_result"
    }
   ],
   "source": [
    "encoder.inverse_transform([0, 1, 2, 3, 4, 5, 6, 7, 8, 9, 10, 11, 12])"
   ]
  },
  {
   "cell_type": "code",
   "execution_count": 589,
   "metadata": {},
   "outputs": [
    {
     "name": "stdout",
     "output_type": "stream",
     "text": [
      "sentence의 최대 길이 :85\n",
      "sentence의 평균 길이 :7.156434248610239\n"
     ]
    },
    {
     "data": {
      "image/png": "[encoded data removed]",
      "text/plain": [
       "<Figure size 1200x900 with 1 Axes>"
      ]
     },
     "metadata": {},
     "output_type": "display_data"
    }
   ],
   "source": [
    "max_len = max(len(sample) for sample in X_train)\n",
    "print('sentence의 최대 길이 :{}'.format(max_len))\n",
    "print('sentence의 평균 길이 :{}'.format(sum(map(len, X_train))/len(X_train)))\n",
    "\n",
    "plt.hist([len(sample) for sample in X_train], bins=50)\n",
    "plt.xlabel('length of samples')\n",
    "plt.ylabel('number of samples')\n",
    "plt.show()\n"
   ]
  },
  {
   "cell_type": "markdown",
   "metadata": {},
   "source": [
    "### LSTM"
   ]
  },
  {
   "attachments": {},
   "cell_type": "markdown",
   "metadata": {},
   "source": [
    "####  modeling"
   ]
  },
  {
   "cell_type": "code",
   "execution_count": 591,
   "metadata": {},
   "outputs": [],
   "source": [
    "from tensorflow.keras.models import Sequential\n",
    "from tensorflow.keras.layers import Dense, LSTM, Embedding\n",
    "from tensorflow.keras.preprocessing.sequence import pad_sequences\n",
    "from tensorflow.keras.utils import to_categorical\n",
    "from tensorflow.keras.callbacks import EarlyStopping, ModelCheckpoint\n",
    "from keras import backend as K\n",
    "\n",
    "\n",
    "vocab_size = vocab_size\n",
    "max_len = max_len\n",
    "\n",
    "X_train = pad_sequences(X_train, maxlen=max_len)\n",
    "X_valid = pad_sequences(X_valid, maxlen=max_len)\n",
    "X_test = pad_sequences(X_test, maxlen=max_len)\n",
    "\n",
    "y_train = to_categorical(y_train)\n",
    "y_valid = to_categorical(y_valid)\n",
    "y_test = to_categorical(y_test)\n"
   ]
  },
  {
   "cell_type": "code",
   "execution_count": 276,
   "metadata": {},
   "outputs": [],
   "source": [
    "def recall(y_target, y_pred):\n",
    "    # clip(t, clip_value_min, clip_value_max) : clip_value_min~clip_value_max 이외 가장자리를 깎아 낸다\n",
    "    # round : 반올림한다\n",
    "    y_target_yn = K.round(K.clip(y_target, 0, 1)) # 실제값을 0(Negative) 또는 1(Positive)로 설정한다\n",
    "    y_pred_yn = K.round(K.clip(y_pred, 0, 1)) # 예측값을 0(Negative) 또는 1(Positive)로 설정한다\n",
    "\n",
    "    # True Positive는 실제 값과 예측 값이 모두 1(Positive)인 경우이다\n",
    "    count_true_positive = K.sum(y_target_yn * y_pred_yn) \n",
    "\n",
    "    # (True Positive + False Negative) = 실제 값이 1(Positive) 전체\n",
    "    count_true_positive_false_negative = K.sum(y_target_yn)\n",
    "\n",
    "    # Recall =  (True Positive) / (True Positive + False Negative)\n",
    "    # K.epsilon()는 'divide by zero error' 예방차원에서 작은 수를 더한다\n",
    "    recall = count_true_positive / (count_true_positive_false_negative + K.epsilon())\n",
    "\n",
    "    # return a single tensor value\n",
    "    return recall\n",
    "\n",
    "\n",
    "def precision(y_target, y_pred):\n",
    "    # clip(t, clip_value_min, clip_value_max) : clip_value_min~clip_value_max 이외 가장자리를 깎아 낸다\n",
    "    # round : 반올림한다\n",
    "    y_pred_yn = K.round(K.clip(y_pred, 0, 1)) # 예측값을 0(Negative) 또는 1(Positive)로 설정한다\n",
    "    y_target_yn = K.round(K.clip(y_target, 0, 1)) # 실제값을 0(Negative) 또는 1(Positive)로 설정한다\n",
    "\n",
    "    # True Positive는 실제 값과 예측 값이 모두 1(Positive)인 경우이다\n",
    "    count_true_positive = K.sum(y_target_yn * y_pred_yn) \n",
    "\n",
    "    # (True Positive + False Positive) = 예측 값이 1(Positive) 전체\n",
    "    count_true_positive_false_positive = K.sum(y_pred_yn)\n",
    "\n",
    "    # Precision = (True Positive) / (True Positive + False Positive)\n",
    "    # K.epsilon()는 'divide by zero error' 예방차원에서 작은 수를 더한다\n",
    "    precision = count_true_positive / (count_true_positive_false_positive + K.epsilon())\n",
    "\n",
    "    # return a single tensor value\n",
    "    return precision\n",
    "\n",
    "\n",
    "def f1score(y_target, y_pred):\n",
    "    _recall = recall(y_target, y_pred)\n",
    "    _precision = precision(y_target, y_pred)\n",
    "    # K.epsilon()는 'divide by zero error' 예방차원에서 작은 수를 더한다\n",
    "    _f1score = ( 2 * _recall * _precision) / (_recall + _precision+ K.epsilon())\n",
    "    \n",
    "    # return a single tensor value\n",
    "    return _f1score\n"
   ]
  },
  {
   "cell_type": "code",
   "execution_count": 604,
   "metadata": {},
   "outputs": [
    {
     "name": "stdout",
     "output_type": "stream",
     "text": [
      "Epoch 1/30\n",
      "511/511 [==============================] - ETA: 0s - loss: 0.7020 - acc: 0.8095 - precision: 0.8425 - recall: 0.7726 - f1score: 0.8051\n",
      "Epoch 1: val_acc improved from -inf to 0.86672, saving model to best_model.h5\n",
      "511/511 [==============================] - 339s 660ms/step - loss: 0.7020 - acc: 0.8095 - precision: 0.8425 - recall: 0.7726 - f1score: 0.8051 - val_loss: 0.5423 - val_acc: 0.8667 - val_precision: 0.8948 - val_recall: 0.8492 - val_f1score: 0.8713\n",
      "Epoch 2/30\n",
      "511/511 [==============================] - ETA: 0s - loss: 0.4190 - acc: 0.8908 - precision: 0.9233 - recall: 0.8681 - f1score: 0.8947\n",
      "Epoch 2: val_acc improved from 0.86672 to 0.87739, saving model to best_model.h5\n",
      "511/511 [==============================] - 358s 701ms/step - loss: 0.4190 - acc: 0.8908 - precision: 0.9233 - recall: 0.8681 - f1score: 0.8947 - val_loss: 0.4853 - val_acc: 0.8774 - val_precision: 0.8999 - val_recall: 0.8618 - val_f1score: 0.8804\n",
      "Epoch 3/30\n",
      "511/511 [==============================] - ETA: 0s - loss: 0.3097 - acc: 0.9150 - precision: 0.9435 - recall: 0.8958 - f1score: 0.9189\n",
      "Epoch 3: val_acc did not improve from 0.87739\n",
      "511/511 [==============================] - 362s 709ms/step - loss: 0.3097 - acc: 0.9150 - precision: 0.9435 - recall: 0.8958 - f1score: 0.9189 - val_loss: 0.4964 - val_acc: 0.8767 - val_precision: 0.8981 - val_recall: 0.8582 - val_f1score: 0.8776\n",
      "Epoch 4/30\n",
      "511/511 [==============================] - ETA: 0s - loss: 0.2358 - acc: 0.9341 - precision: 0.9527 - recall: 0.9195 - f1score: 0.9357\n",
      "Epoch 4: val_acc did not improve from 0.87739\n",
      "511/511 [==============================] - 349s 683ms/step - loss: 0.2358 - acc: 0.9341 - precision: 0.9527 - recall: 0.9195 - f1score: 0.9357 - val_loss: 0.5240 - val_acc: 0.8702 - val_precision: 0.8903 - val_recall: 0.8538 - val_f1score: 0.8716\n",
      "Epoch 5/30\n",
      "511/511 [==============================] - ETA: 0s - loss: 0.1803 - acc: 0.9494 - precision: 0.9619 - recall: 0.9405 - f1score: 0.9511\n",
      "Epoch 5: val_acc did not improve from 0.87739\n",
      "511/511 [==============================] - 359s 703ms/step - loss: 0.1803 - acc: 0.9494 - precision: 0.9619 - recall: 0.9405 - f1score: 0.9511 - val_loss: 0.5655 - val_acc: 0.8656 - val_precision: 0.8854 - val_recall: 0.8486 - val_f1score: 0.8665\n",
      "Epoch 6/30\n",
      "511/511 [==============================] - ETA: 0s - loss: 0.1433 - acc: 0.9587 - precision: 0.9675 - recall: 0.9521 - f1score: 0.9597\n",
      "Epoch 6: val_acc did not improve from 0.87739\n",
      "511/511 [==============================] - 360s 705ms/step - loss: 0.1433 - acc: 0.9587 - precision: 0.9675 - recall: 0.9521 - f1score: 0.9597 - val_loss: 0.6293 - val_acc: 0.8595 - val_precision: 0.8716 - val_recall: 0.8501 - val_f1score: 0.8607\n",
      "Epoch 6: early stopping\n"
     ]
    }
   ],
   "source": [
    "embedding_dim = 128\n",
    "hidden_units = 256\n",
    "num_classes = num_classes\n",
    "batch_size = 128\n",
    "epochs = 30\n",
    "verbose = 1\n",
    "\n",
    "model = Sequential()\n",
    "model.add(Embedding(vocab_size, embedding_dim))\n",
    "model.add(LSTM(hidden_units, dropout=0.3))\n",
    "model.add(Dense(num_classes, activation='softmax'))\n",
    "\n",
    "es = EarlyStopping(monitor='val_loss', mode='min', verbose=1, patience=4)\n",
    "mc = ModelCheckpoint('best_model.h5', monitor='val_acc', mode='max', verbose=1, save_best_only=True)\n",
    "\n",
    "model.compile(loss='categorical_crossentropy', optimizer='adam', metrics=['acc', precision, recall, f1score])\n",
    "history = model.fit(X_train, y_train, batch_size=batch_size, epochs=epochs, callbacks=[es, mc], validation_data=(X_valid, y_valid))\n"
   ]
  },
  {
   "attachments": {},
   "cell_type": "markdown",
   "metadata": {},
   "source": [
    "#### evaluate"
   ]
  },
  {
   "cell_type": "code",
   "execution_count": 605,
   "metadata": {},
   "outputs": [
    {
     "name": "stdout",
     "output_type": "stream",
     "text": [
      "67/67 - 10s - loss: 0.6371 - acc: 0.8589 - precision: 0.8721 - recall: 0.8499 - f1score: 0.8608 - 10s/epoch - 153ms/step\n",
      "loss: 0.637, accuracy: 0.859, precision: 0.872, recall: 0.850, f1score: 0.861\n"
     ]
    }
   ],
   "source": [
    "_loss, _acc, _precision, _recall, _f1score = model.evaluate(X_test, y_test, batch_size=batch_size, verbose=2)\n",
    "print('loss: {:.3f}, accuracy: {:.3f}, precision: {:.3f}, recall: {:.3f}, f1score: {:.3f}'.format(_loss, _acc, _precision, _recall, _f1score))\n"
   ]
  },
  {
   "cell_type": "code",
   "execution_count": 606,
   "metadata": {},
   "outputs": [
    {
     "data": {
      "image/png": "[encoded data removed]",
      "text/plain": [
       "<Figure size 1200x900 with 1 Axes>"
      ]
     },
     "metadata": {},
     "output_type": "display_data"
    }
   ],
   "source": [
    "epochs = range(1, len(history.history['acc']) + 1)\n",
    "plt.plot(epochs, history.history['loss'])\n",
    "plt.plot(epochs, history.history['val_loss'])\n",
    "plt.title('model loss')\n",
    "plt.ylabel('loss')\n",
    "plt.xlabel('epoch')\n",
    "plt.legend(['train', 'test'], loc='upper left')\n",
    "plt.show()\n"
   ]
  },
  {
   "cell_type": "code",
   "execution_count": 460,
   "metadata": {},
   "outputs": [],
   "source": [
    "from sklearn.metrics import classification_report\n"
   ]
  },
  {
   "cell_type": "code",
   "execution_count": 608,
   "metadata": {},
   "outputs": [
    {
     "name": "stdout",
     "output_type": "stream",
     "text": [
      "              precision    recall  f1-score   support\n",
      "\n",
      "          AS       0.00      0.00      0.00       116\n",
      "          결제       0.00      0.00      0.00       115\n",
      "    교환|반품|환불       0.00      0.00      0.00       345\n",
      "          구매       0.00      0.00      0.00        68\n",
      "          매장       0.00      0.00      0.00        28\n",
      "         멤버십       0.00      0.00      0.00         3\n",
      "          배송       0.00      0.00      0.00      1932\n",
      "       부가서비스       0.00      0.00      0.00        57\n",
      "        웹사이트       0.00      0.00      0.00        58\n",
      "          제품       0.63      1.00      0.78      5377\n",
      "          주문       0.00      0.00      0.00        13\n",
      "          포장       0.00      0.00      0.00        42\n",
      "          행사       0.00      0.00      0.00       327\n",
      "\n",
      "    accuracy                           0.63      8481\n",
      "   macro avg       0.05      0.08      0.06      8481\n",
      "weighted avg       0.40      0.63      0.49      8481\n",
      "\n"
     ]
    },
    {
     "name": "stderr",
     "output_type": "stream",
     "text": [
      "C:\\Users\\user\\AppData\\Roaming\\Python\\Python39\\site-packages\\sklearn\\metrics\\_classification.py:1334: UndefinedMetricWarning: Precision and F-score are ill-defined and being set to 0.0 in labels with no predicted samples. Use `zero_division` parameter to control this behavior.\n",
      "  _warn_prf(average, modifier, msg_start, len(result))\n",
      "C:\\Users\\user\\AppData\\Roaming\\Python\\Python39\\site-packages\\sklearn\\metrics\\_classification.py:1334: UndefinedMetricWarning: Precision and F-score are ill-defined and being set to 0.0 in labels with no predicted samples. Use `zero_division` parameter to control this behavior.\n",
      "  _warn_prf(average, modifier, msg_start, len(result))\n",
      "C:\\Users\\user\\AppData\\Roaming\\Python\\Python39\\site-packages\\sklearn\\metrics\\_classification.py:1334: UndefinedMetricWarning: Precision and F-score are ill-defined and being set to 0.0 in labels with no predicted samples. Use `zero_division` parameter to control this behavior.\n",
      "  _warn_prf(average, modifier, msg_start, len(result))\n"
     ]
    }
   ],
   "source": [
    "y_predicted = np.argmax(model.predict(y_test), axis=1).tolist()\n",
    "print(classification_report(np.argmax(y_test, axis=1).tolist(), y_predicted, target_names=encoder.classes_))\n"
   ]
  },
  {
   "cell_type": "code",
   "execution_count": 620,
   "metadata": {},
   "outputs": [
    {
     "name": "stdout",
     "output_type": "stream",
     "text": [
      "266/266 [==============================] - 4s 14ms/step\n"
     ]
    }
   ],
   "source": [
    "dic = {'utterance' : test['utterance'], 'intent':encoder.inverse_transform(y_predicted)}\n",
    "submission = pd.DataFrame(dic)\n",
    "submission.to_csv('../output/submission.csv', sep=',', index = None, encoding='ms949')"
   ]
  }
 ],
 "metadata": {
  "kernelspec": {
   "display_name": "base",
   "language": "python",
   "name": "python3"
  },
  "language_info": {
   "codemirror_mode": {
    "name": "ipython",
    "version": 3
   },
   "file_extension": ".py",
   "mimetype": "text/x-python",
   "name": "python",
   "nbconvert_exporter": "python",
   "pygments_lexer": "ipython3",
   "version": "3.9.12"
  },
  "orig_nbformat": 4,
  "vscode": {
   "interpreter": {
    "hash": "ad2bdc8ecc057115af97d19610ffacc2b4e99fae6737bb82f5d7fb13d2f2c186"
   }
  }
 },
 "nbformat": 4,
 "nbformat_minor": 2
}
